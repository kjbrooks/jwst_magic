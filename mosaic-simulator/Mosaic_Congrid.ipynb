{
 "cells": [
  {
   "cell_type": "code",
   "execution_count": 1,
   "metadata": {
    "collapsed": true
   },
   "outputs": [],
   "source": [
    "import os, glob\n",
    "from astropy.io import fits as pyfits\n",
    "import numpy as np\n",
    "import scipy.interpolate"
   ]
  },
  {
   "cell_type": "markdown",
   "metadata": {},
   "source": [
    "# METHOD: BIN DOWN IMAGES"
   ]
  },
  {
   "cell_type": "code",
   "execution_count": 2,
   "metadata": {
    "collapsed": true
   },
   "outputs": [],
   "source": [
    "#http://scipy.github.io/old-wiki/pages/Cookbook/Rebinning\n",
    "\n",
    "def congrid(a, newdims, method='linear', centre=False, minusone=False):\n",
    "    '''Arbitrary resampling of source array to new dimension sizes.\n",
    "    Currently only supports maintaining the same number of dimensions.\n",
    "    To use 1-D arrays, first promote them to shape (x,1).\n",
    "    \n",
    "    Uses the same parameters and creates the same co-ordinate lookup points\n",
    "    as IDL''s congrid routine, which apparently originally came from a VAX/VMS\n",
    "    routine of the same name.\n",
    "\n",
    "    method:\n",
    "    neighbour - closest value from original data\n",
    "    nearest and linear - uses n x 1-D interpolations using\n",
    "                         scipy.interpolate.interp1d\n",
    "    (see Numerical Recipes for validity of use of n 1-D interpolations)\n",
    "    spline - uses ndimage.map_coordinates\n",
    "\n",
    "    centre:\n",
    "    True - interpolation points are at the centres of the bins\n",
    "    False - points are at the front edge of the bin\n",
    "\n",
    "    minusone:\n",
    "    For example- inarray.shape = (i,j) & new dimensions = (x,y)\n",
    "    False - inarray is resampled by factors of (i/x) * (j/y)\n",
    "    True - inarray is resampled by(i-1)/(x-1) * (j-1)/(y-1)\n",
    "    This prevents extrapolation one element beyond bounds of input array.\n",
    "    '''\n",
    "    if not a.dtype in [np.float64, np.float32]:\n",
    "        a = np.cast[float](a)\n",
    "    \n",
    "    m1 = np.cast[int](minusone)\n",
    "    ofs = np.cast[int](centre) * 0.5\n",
    "    old = np.array( a.shape )\n",
    "    ndims = len( a.shape )\n",
    "    if len( newdims ) != ndims:\n",
    "        print \"[congrid] dimensions error. \" \\\n",
    "              \"This routine currently only support \" \\\n",
    "              \"rebinning to the same number of dimensions.\"\n",
    "        return None\n",
    "    newdims = np.asarray( newdims, dtype=float )    \n",
    "    dimlist = []\n",
    "\n",
    "    if method == 'neighbour':\n",
    "        for i in range( ndims ):\n",
    "            base = np.indices(newdims)[i]\n",
    "            dimlist.append( (old[i] - m1) / (newdims[i] - m1) \\\n",
    "                            * (base + ofs) - ofs )\n",
    "        cd = np.array( dimlist ).round().astype(int)\n",
    "        newa = a[list( cd )]\n",
    "        return newa\n",
    "    \n",
    "    elif method in ['nearest','linear']:\n",
    "        # calculate new dims\n",
    "        for i in range( ndims ):\n",
    "            base = np.arange( newdims[i] )\n",
    "            dimlist.append( (old[i] - m1) / (newdims[i] - m1) \\\n",
    "                            * (base + ofs) - ofs )\n",
    "        # specify old dims\n",
    "        olddims = [np.arange(i, dtype = np.float) for i in list( a.shape )]\n",
    "\n",
    "        # first interpolation - for ndims = any\n",
    "        mint = scipy.interpolate.interp1d( olddims[-1], a, kind=method )\n",
    "        newa = mint( dimlist[-1] )\n",
    "\n",
    "        trorder = [ndims - 1] + range( ndims - 1 )\n",
    "        for i in range( ndims - 2, -1, -1 ):\n",
    "            newa = newa.transpose( trorder )\n",
    "\n",
    "            mint = scipy.interpolate.interp1d( olddims[i], newa, kind=method )\n",
    "            newa = mint( dimlist[i] )\n",
    "\n",
    "        if ndims > 1:\n",
    "            # need one more transpose to return to original dimensions\n",
    "            newa = newa.transpose( trorder )\n",
    "\n",
    "        return newa\n",
    "    elif method in ['spline']:\n",
    "        oslices = [ slice(0,j) for j in old ]\n",
    "        oldcoords = np.ogrid[oslices]\n",
    "        nslices = [ slice(0,j) for j in list(newdims) ]\n",
    "        newcoords = np.mgrid[nslices]\n",
    "\n",
    "        newcoords_dims = range(np.rank(newcoords))\n",
    "        #make first index last\n",
    "        newcoords_dims.append(newcoords_dims.pop(0))\n",
    "        newcoords_tr = newcoords.transpose(newcoords_dims)\n",
    "        # makes a view that affects newcoords\n",
    "\n",
    "        newcoords_tr += ofs        \n",
    "\n",
    "        deltas = (np.asarray(old) - m1) / (newdims - m1)\n",
    "        newcoords_tr *= deltas\n",
    "\n",
    "        newcoords_tr -= ofs\n",
    "\n",
    "        newa = scipy.ndimage.map_coordinates(a, newcoords)\n",
    "        return newa\n",
    "    else:\n",
    "        print \"Congrid error: Unrecognized interpolation type.\\n\", \\\n",
    "              \"Currently only \\'neighbour\\', \\'nearest\\',\\'linear\\',\", \\\n",
    "              \"and \\'spline\\' are supported.\"\n",
    "        return None  "
   ]
  },
  {
   "cell_type": "markdown",
   "metadata": {},
   "source": [
    "# LOOP OVER FILES, SHRINK THEM, AND MODIFY HEADER ACCORDINGLY"
   ]
  },
  {
   "cell_type": "code",
   "execution_count": 4,
   "metadata": {
    "collapsed": false,
    "scrolled": false
   },
   "outputs": [],
   "source": [
    "# INPUT NEEDED: \n",
    "maindir = \"/Users/lajoie/WCS_Test/\"\n",
    "if maindir[-1]!='/': maindir+='/'\n",
    "outfile = 'congrid' # prefix on output files\n",
    "bindim =  200       # downsample image size\n",
    "imgsize= 2048       # individual input image size\n",
    "\n",
    "\n",
    "binfactor = float(imgsize) / float(bindim)\n",
    "\n",
    "os.chdir(maindir)\n",
    "folderfiles = glob.glob(\"*.fits\")\n",
    "\n",
    "ic = 0\n",
    "for ifile in folderfiles:\n",
    "    hdu = pyfits.open(ifile)\n",
    "    outhdu = pyfits.HDUList()\n",
    "\n",
    "    # MODIFY EACH EXTENSION ACCORDINGLY:\n",
    "    for iext in xrange(len(hdu)):\n",
    "        hdr = hdu[iext].header\n",
    "        data= hdu[iext].data\n",
    "        \n",
    "        hdr[\"CRPIX1\"] = bindim/2\n",
    "        hdr[\"CRPIX2\"] = bindim/2\n",
    "        hdr[\"CDELT1\"] = hdr[\"CDELT1\"]*binfactor\n",
    "        hdr[\"CDELT2\"] = hdr[\"CDELT2\"]*binfactor\n",
    "        hdr[\"CD1_1\"]  = hdr[\"CD1_1\"] *binfactor\n",
    "        hdr[\"CD1_2\"]  = hdr[\"CD1_2\"] *binfactor\n",
    "        hdr[\"CD2_1\"]  = hdr[\"CD2_1\"] *binfactor\n",
    "        hdr[\"CD2_2\"]  = hdr[\"CD2_2\"] *binfactor\n",
    "        \n",
    "        if data is not None:\n",
    "            data = congrid(data, [bindim,bindim])\n",
    "            if hdr[\"EXTNAME\"]: extname = hdr[\"EXTNAME\"] \n",
    "            outhdu.append(pyfits.ImageHDU(data, header=hdr, name=extname))   \n",
    "        else: outhdu.append(pyfits.ImageHDU(header=hdr))\n",
    "                \n",
    "    filename = outfile+ifile.split('.')[0]+\".fits\"\n",
    "    outhdu.writeto(filename, clobber=True)  \n",
    "    \n",
    "    hdu.close()\n",
    "    outhdu.close()\n",
    "    ic += 1"
   ]
  },
  {
   "cell_type": "markdown",
   "metadata": {},
   "source": [
    "# CREATE OPERATION FILE FOR QUIP"
   ]
  },
  {
   "cell_type": "code",
   "execution_count": 10,
   "metadata": {
    "collapsed": false
   },
   "outputs": [
    {
     "name": "stdout",
     "output_type": "stream",
     "text": [
      "<?xml version=\"1.0\" encoding=\"UTF-8\" standalone=\"yes\"?>\n",
      "<QUIP_OPERATION_FILE xmlns:xsi=\"http://www.w3.org/2001/XMLSchema-instance\" creator=\"WSS Executive\" time=\"16:22:40.093Z\" date=\"2017-06-14Z\" version=\"6.0.1\" operational=\"false\" xsi:noNamespaceSchemaLocation=\"/Users/lajoie/TEL/WSS-6.0.1/Software/schema/quip_operation_file.xsd\">\n",
      "    <CORRECTION_ID>R2017061401</CORRECTION_ID>\n",
      "    <OPERATION_TYPE>THUMBNAIL</OPERATION_TYPE>\n",
      "       <IMAGE_PATH>/Users/lajoie/WCS_Test/congrid00.fits</IMAGE_PATH>\n",
      "       <IMAGE_PATH>/Users/lajoie/WCS_Test/congrid01.fits</IMAGE_PATH>\n",
      "       <IMAGE_PATH>/Users/lajoie/WCS_Test/congrid02.fits</IMAGE_PATH>\n",
      "       <IMAGE_PATH>/Users/lajoie/WCS_Test/congrid03.fits</IMAGE_PATH>\n",
      "       <IMAGE_PATH>/Users/lajoie/WCS_Test/congrid04.fits</IMAGE_PATH>\n",
      "       <IMAGE_PATH>/Users/lajoie/WCS_Test/congrid05.fits</IMAGE_PATH>\n",
      "       <IMAGE_PATH>/Users/lajoie/WCS_Test/congrid06.fits</IMAGE_PATH>\n",
      "       <IMAGE_PATH>/Users/lajoie/WCS_Test/congrid07.fits</IMAGE_PATH>\n",
      "       <IMAGE_PATH>/Users/lajoie/WCS_Test/congrid08.fits</IMAGE_PATH>\n",
      "       <IMAGE_PATH>/Users/lajoie/WCS_Test/congrid09.fits</IMAGE_PATH>\n",
      "       </IMAGES>\n",
      "       <OUTPUT>\n",
      "           <OUTPUT_DIRECTORY>/Users/lajoie/WCS_Test/quip/</OUTPUT_DIRECTORY>\n",
      "           <LOG_FILE_PATH>/Users/lajoie/WCS_Test/quip/R2017061401_quip_activity_log.xml</LOG_FILE_PATH>\n",
      "           <OUT_FILE_PATH>/Users/lajoie/WCS_Test/quip/R2017061401_quip_out.xml</OUT_FILE_PATH>\n",
      "       </OUTPUT>\n",
      "</QUIP_OPERATION_FILE>\n"
     ]
    }
   ],
   "source": [
    "print '<?xml version=\"1.0\" encoding=\"UTF-8\" standalone=\"yes\"?>'\n",
    "print '<QUIP_OPERATION_FILE xmlns:xsi=\"http://www.w3.org/2001/XMLSchema-instance\" creator=\"WSS Executive\" time=\"16:22:40.093Z\" date=\"2017-06-14Z\" version=\"6.0.1\" operational=\"false\" xsi:noNamespaceSchemaLocation=\"/Users/lajoie/TEL/WSS-6.0.1/Software/schema/quip_operation_file.xsd\">'\n",
    "print '    <CORRECTION_ID>R2017061401</CORRECTION_ID>'\n",
    "print '    <OPERATION_TYPE>THUMBNAIL</OPERATION_TYPE>'\n",
    "\n",
    "for i in xrange(ic):\n",
    "    print \"       <IMAGE_PATH>{:s}{:s}{:02d}.fits</IMAGE_PATH>\".format(maindir,outfile,i)\n",
    "    \n",
    "print '       </IMAGES>'    \n",
    "print '       <OUTPUT>'\n",
    "print '           <OUTPUT_DIRECTORY>{:s}quip/</OUTPUT_DIRECTORY>'.format(maindir)\n",
    "print '           <LOG_FILE_PATH>{:s}quip/R2017061401_quip_activity_log.xml</LOG_FILE_PATH>'.format(maindir)\n",
    "print '           <OUT_FILE_PATH>{:s}quip/R2017061401_quip_out.xml</OUT_FILE_PATH>'.format(maindir)\n",
    "print '       </OUTPUT>'\n",
    "\n",
    "print '</QUIP_OPERATION_FILE>'"
   ]
  },
  {
   "cell_type": "code",
   "execution_count": null,
   "metadata": {
    "collapsed": true
   },
   "outputs": [],
   "source": []
  }
 ],
 "metadata": {
  "kernelspec": {
   "display_name": "Python 2",
   "language": "python",
   "name": "python2"
  },
  "language_info": {
   "codemirror_mode": {
    "name": "ipython",
    "version": 2
   },
   "file_extension": ".py",
   "mimetype": "text/x-python",
   "name": "python",
   "nbconvert_exporter": "python",
   "pygments_lexer": "ipython2",
   "version": "2.7.12"
  }
 },
 "nbformat": 4,
 "nbformat_minor": 2
}
